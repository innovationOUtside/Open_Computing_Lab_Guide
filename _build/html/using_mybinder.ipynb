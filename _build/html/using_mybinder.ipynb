{
 "cells": [
  {
   "cell_type": "markdown",
   "metadata": {},
   "source": [
    "\n",
    "### Accessing RoboLab Online - MyBinder / BinderHub\n",
    "\n",
    "You can run the RoboLab environment online using the MyBinder service [![Binder](https://mybinder.org/badge_logo.svg)](https://mybinder.org/v2/gh/innovationOUtside/tm129-robotics2020/master).\n",
    "\n",
    "If you want to save any of the notebooks used there, you will have to download them as follows:\n",
    "\n",
    "- as a single notebook from the notebook page `File` menu;\n",
    "- as a zipped archive file of all notebooks using the the download button on the notebook homepage.\n",
    "\n",
    "You can also upload your own notebooks from the notebook homepage either individually, or as a zip file. If you upload a zip file, you will need to unzip it. You can do this from a notebook command cell using the `unzip` shell command or [using Python code](https://thispointer.com/python-how-to-unzip-a-file-extract-single-multiple-or-all-files-from-a-zip-archive/). More details can be found in the __TO DO?? - see the `RoboLab Environment FAQ`__\n",
    "\n",
    "The environment launched from MyBinder is ephemeral - it is created on demand when you click a `launch binder` button and is destroyed after a short period of inactivity.\n",
    "\n",
    "To save your work when working on MyBinder, there are two approaches you can take:\n",
    "\n",
    "- using browser storage;\n",
    "- downloading and uploading files.\n",
    "\n",
    "##### Using Browser Storage\n",
    "\n",
    "When running a notebook in MyBinder, on the toolbar you will see a group of three icons:\n",
    "\n",
    "![](./images/browser_storage.png)\n",
    "\n",
    "The cloud buttons with the up and down arrows can be used to save the current notebook using your web browser's file storage mechanism.\n",
    "\n",
    "Click the cloud with the down arrow (*Save to browser storage*) to save a copy of the notebook in your browser's file store. Note that you can do this even if the MyBinder session has timed out, as long as you can see the notebook in your browser.\n",
    "\n",
    "If you create another MyBinder session at a later time, and open a notebook from the notebook home page, if you remember previously having saved that notebook to notebook storage, you can press the cloud button with the up arrow (*Restore from browser storage*) to replace the copy of the notebook provided by MyBinder by default with the copy you previously saved.\n",
    "\n",
    "This is a little bit clunky, and means you have to remember that you saved a notebook to browser storage, but it works!\n",
    "\n",
    "Note also that you save the file to the storage associated with a particular browser. If you save a notebook when using a Firefox browser, the files will not be available if you later visit MyBinder using Chrome.\n",
    "\n",
    "__TO CHECK: does file storage synch across logged in instances of Chrome?__ \n",
    "\n",
    "##### Downloading and Uploading Files\n",
    "\n",
    "Another way of saving files is to download them to your own computer desktop and then upload then when you want to work on them again. The *Download* button will download the current notebook to you desktop. You can then upload a notebook saved to your desktop using the *Upload* button on the notebook server home page.\n",
    "\n",
    "![](./images/jupyter_notebook_upload.png)\n",
    "\n",
    "The \"down\" arrow button on the top right-hand side notebook homepage will zip and download *all* the files in the notebook listing, including all the files in any subdirectories / subfolders.\n",
    "\n",
    "Alternatively, if you check a single file from the notebook homepage, you can choose to selectively download just that file by clicking the *Download* button from that is displayed when you check the item.\n",
    "\n",
    "![](./images/jupyter_select_download.png)"
   ]
  }
 ],
 "metadata": {
  "jupytext": {
   "notebook_metadata_filter": "rise",
   "text_representation": {
    "extension": ".md",
    "format_name": "markdown",
    "format_version": "1.2",
    "jupytext_version": "1.4.2"
   }
  },
  "kernelspec": {
   "display_name": "Python 3",
   "language": "python",
   "name": "python3"
  },
  "rise": {
   "enable_chalkboard": true,
   "scroll": true
  }
 },
 "nbformat": 4,
 "nbformat_minor": 4
}
