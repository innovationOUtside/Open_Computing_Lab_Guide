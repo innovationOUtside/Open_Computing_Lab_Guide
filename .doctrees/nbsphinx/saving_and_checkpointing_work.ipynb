{
 "cells": [
  {
   "cell_type": "markdown",
   "metadata": {},
   "source": [
    "### Saving and Checkpointing Your Work\n",
    "\n",
    "Within the notebook environment, the file will be saved automatically every 120 seconds (which is to say, every two minutes).\n",
    "\n",
    "If you have changed the notebook since it was last autosaved, you will see a statement like the following next to the notebook filename at the top of the notebook:\n",
    "\n",
    "`Last Checkpoint: Last Friday at 12:18 AM\n",
    "(unsaved changes)`\n",
    "\n",
    "The `(unsaved changes)` phrase is akin to the `*` indicator you often see next to a filename in a document editor that shows the file has changed since it was last saved.\n",
    "\n",
    "If you watch for at most a couple of minutes, you'll note that it soon changes to something with the following form:\n",
    "\n",
    "`Last Checkpoint: Last Friday at 12:18 AM\n",
    "(autosaved)`\n",
    "\n",
    "You can change the autosave period using magic (yes, really! That's what it's called...). For example, run the following statement in a notebook code cell and it will change the autosave period *for that notebook only* to 60 seconds:\n",
    "\n",
    "`%autosave 60`\n",
    "\n",
    "The autosave time can also be set using the `AutoSaveTime` notebook extension which can be enabled from the `nbextensions configurator` [[direct link](/nbextensions/?nbextension=autosavetime/main)].\n",
    "\n",
    "As well as allowing your notebooks to be automatically saved, you can also \"checkpoint\" them.\n",
    "\n",
    "When you use a keyboard shortcut to manually save the file, or you save a notebook document from the notebook `File` menu, you are actually issuing a `Save and Checkpoint` command. This saves in the same way that the autosave function does, but it *also* generates a checkpointed (backed up) version of the file in the hidden `.ipynb_checkpoints` folder.\n",
    "\n",
    "What this means is that if you work on a file, allowing it to be autosaved, and realise that you have made some terrible mistakes in it, you can revert the notebook to a previously checkpointed (manually saved) version.\n",
    "\n",
    "Note that this will throw away all changes made to the autosaved version of the notebook since the last manual (checkpointing) save, so use this command with care.\n",
    "\n"
   ]
  }
 ],
 "metadata": {
  "jupytext": {
   "notebook_metadata_filter": "rise",
   "text_representation": {
    "extension": ".md",
    "format_name": "markdown",
    "format_version": "1.2",
    "jupytext_version": "1.4.2"
   }
  },
  "kernelspec": {
   "display_name": "Python 3",
   "language": "python",
   "name": "python3"
  },
  "rise": {
   "enable_chalkboard": true,
   "scroll": true
  }
 },
 "nbformat": 4,
 "nbformat_minor": 4
}
