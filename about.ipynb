{
 "cells": [
  {
   "cell_type": "markdown",
   "metadata": {
    "slideshow": {
     "slide_type": "slide"
    }
   },
   "source": [
    "# Open\\_Computing\\_Lab (OCL)"
   ]
  },
  {
   "cell_type": "markdown",
   "metadata": {
    "slideshow": {
     "slide_type": "slide"
    }
   },
   "source": [
    "The `Open Computing Lab` (OCL) approach is being trialled on several Open University modules and aims to provide a common approach to delivering complex software and computing envronments on personal computers as well as via remotely hosted online servers."
   ]
  },
  {
   "cell_type": "markdown",
   "metadata": {},
   "source": [
    "The motivating idea for the Open Computing Lab approach is the provision of module specific computational environments capable of being run locally by students, on OU hosted onlines servers, and on remote third party servers, using a standardised approach.\n",
    "\n",
    "The OCL approach is based on the use of:\n",
    "\n",
    "- Docker containers, for providing a way of packaging and distributing arbitrary computational envirionments running arbitrary applications;\n",
    "- Jupyter services for providing single and multi-user access to browser accessed applications and environments."
   ]
  },
  {
   "cell_type": "markdown",
   "metadata": {
    "slideshow": {
     "slide_type": "skip"
    }
   },
   "source": [
    "To install the environment, use the installation instructions that are provided for students."
   ]
  },
  {
   "cell_type": "markdown",
   "metadata": {},
   "source": [
    "RoboLab is an example of an `Open Computing Lab (OCL)` environment configured specifically to support your TM129 activities.\n",
    "\n",
    "The `Open Computing Lab` approach is being trialled on several Open University modules and aims to provide a common approach to delivering complex software and computing envronments on personal computers as well as via remotely hosted online servers.\n"
   ]
  },
  {
   "cell_type": "markdown",
   "metadata": {
    "lines_to_next_cell": 0,
    "slideshow": {
     "slide_type": "slide"
    }
   },
   "source": [
    "## Accessing Open Computer Lab Environments\n",
    "\n",
    "There are several ways in which you can access an OCL environment:\n",
    "\n",
    "- *as a \"temporary\" online service using MyBinder*\n",
    "- <s>*via the OU hosted JupyterHub environment [if available]*</s>\n",
    "- *locally on your own computer*\n",
    "- *remotely accessed from your own server over your home network* __TO DO__\n",
    "- *using your own remote host*\n",
    "\n",
    "The current recommended approach is __download Docker to your own computer and launch the environment from the command line__."
   ]
  },
  {
   "cell_type": "markdown",
   "metadata": {},
   "source": [
    "\n"
   ]
  }
 ],
 "metadata": {
  "jupytext": {
   "notebook_metadata_filter": "rise",
   "text_representation": {
    "extension": ".md",
    "format_name": "markdown",
    "format_version": "1.2",
    "jupytext_version": "1.4.2"
   }
  },
  "kernelspec": {
   "display_name": "Python 3",
   "language": "python",
   "name": "python3"
  },
  "rise": {
   "enable_chalkboard": true,
   "scroll": true
  }
 },
 "nbformat": 4,
 "nbformat_minor": 4
}
