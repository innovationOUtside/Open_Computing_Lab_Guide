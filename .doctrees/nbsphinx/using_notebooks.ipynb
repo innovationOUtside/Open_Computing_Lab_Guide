{
 "cells": [
  {
   "cell_type": "markdown",
   "metadata": {
    "slideshow": {
     "slide_type": "slide"
    }
   },
   "source": [
    "## The Jupyter Notebook Environment\n",
    "\n",
    "The teaching and learning materials used to support the activities are provided as Jupyter notebooks. "
   ]
  },
  {
   "cell_type": "markdown",
   "metadata": {
    "slideshow": {
     "slide_type": "skip"
    }
   },
   "source": [
    "Jupyter notebooks have been used deliver practical activities in *TM351 Data Management and Analysis*, the OU produced FutureLearn/OpenLearn unit *Learn to Code for Data Analysis*, materials which are also used in *S818 Space Science*, and to support a brief, optional set of activities in TM112.\n",
    "\n",
    "They will also be used in several courses currently in production including the *TM129 Technologies in Practice* robotics unit, *M269 Algorithms*, *TM358 Machine Learning* and *M348 Linear Models*, although not necessarily delivered using the *Open Computing Lab* approach."
   ]
  },
  {
   "cell_type": "markdown",
   "metadata": {
    "slideshow": {
     "slide_type": "slide"
    }
   },
   "source": [
    "Originally developed to support computational research activities, Jupyter notebooks provide a cell based web-based read-write-execute document editor that blends rich text, executable code and code outputs."
   ]
  },
  {
   "cell_type": "markdown",
   "metadata": {
    "slideshow": {
     "slide_type": "fragment"
    }
   },
   "source": [
    "Within text areas, code can by highlighted in a language sensitive way:"
   ]
  },
  {
   "cell_type": "markdown",
   "metadata": {},
   "source": [
    "```python\n",
    "def sayHello():\n",
    "    print('Hello World')\n",
    "```"
   ]
  },
  {
   "cell_type": "markdown",
   "metadata": {
    "slideshow": {
     "slide_type": "slide"
    }
   },
   "source": [
    "Code is executed in a \"kernel\" shell environment running on a backend server."
   ]
  },
  {
   "cell_type": "markdown",
   "metadata": {
    "slideshow": {
     "slide_type": "skip"
    }
   },
   "source": [
    "Kernels for a [wide variety of programming languages](https://github.com/jupyter/jupyter/wiki/Jupyter-kernels) are available; in TM129, we will be using a full Python kernel, as well as a simple in-browser Skulpt Python environment that runs code inside a simple in-browser 2D robot simulator."
   ]
  },
  {
   "cell_type": "markdown",
   "metadata": {
    "slideshow": {
     "slide_type": "slide"
    }
   },
   "source": [
    "When a code cell is run, outputs can be printed or displayed, and any value returned by the last object in the cell object will be displayed as cell output."
   ]
  },
  {
   "cell_type": "code",
   "execution_count": null,
   "metadata": {
    "slideshow": {
     "slide_type": "fragment"
    }
   },
   "outputs": [],
   "source": [
    "def sayHello():\n",
    "    print('Hello World')\n",
    "    return \"done...\"\n",
    "    \n",
    "sayHello()"
   ]
  },
  {
   "cell_type": "markdown",
   "metadata": {
    "lines_to_next_cell": 0,
    "slideshow": {
     "slide_type": "skip"
    }
   },
   "source": [
    "## What Next?\n",
    "\n",
    "If you are not familiar with Jupyter notebooks, please spend some time familiarising yourself with them.\n",
    "\n",
    "We believe they provide a powerful tool to support teaching and learning and it's still early days for us in finding out how to make most effective use of them.\n",
    "\n",
    "If you have any ideas anout how we can imporve our current use of the notebooks, or make more effective use of them, please let us know."
   ]
  },
  {
   "cell_type": "markdown",
   "metadata": {},
   "source": []
  }
 ],
 "metadata": {
  "jupytext": {
   "notebook_metadata_filter": "rise",
   "text_representation": {
    "extension": ".md",
    "format_name": "markdown",
    "format_version": "1.2",
    "jupytext_version": "1.4.2"
   }
  },
  "kernelspec": {
   "display_name": "Python 3",
   "language": "python",
   "name": "python3"
  },
  "rise": {
   "enable_chalkboard": true,
   "scroll": true
  }
 },
 "nbformat": 4,
 "nbformat_minor": 4
}
