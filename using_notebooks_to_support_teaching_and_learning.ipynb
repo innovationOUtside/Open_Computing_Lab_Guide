{
 "cells": [
  {
   "cell_type": "markdown",
   "metadata": {
    "slideshow": {
     "slide_type": "slide"
    }
   },
   "source": [
    "## Using Notebooks to Support Learning\n",
    "\n",
    "The read-write-execute nature of Jupyter notebooks provides us with a medium that can be used to develop a wide range of active learning materials. Students are encouraged to take ownership of the notebooks, use them as guided materials, as well as in a curiosity driven, exploratory way, and annotate them as they would print materials."
   ]
  },
  {
   "cell_type": "markdown",
   "metadata": {
    "slideshow": {
     "slide_type": "slide"
    }
   },
   "source": [
    "For example, students can:"
   ]
  },
  {
   "cell_type": "markdown",
   "metadata": {
    "slideshow": {
     "slide_type": "fragment"
    }
   },
   "source": [
    "- run simple interactive applications in the notebook;"
   ]
  },
  {
   "cell_type": "markdown",
   "metadata": {
    "slideshow": {
     "slide_type": "fragment"
    }
   },
   "source": [
    "- run provided code examples and inspect code outputs;"
   ]
  },
  {
   "cell_type": "markdown",
   "metadata": {
    "slideshow": {
     "slide_type": "fragment"
    }
   },
   "source": [
    "- edit and run their own code and produce their own code outputs;"
   ]
  },
  {
   "cell_type": "markdown",
   "metadata": {
    "slideshow": {
     "slide_type": "skip"
    }
   },
   "source": [
    "- edit the course text, from fixing minor typos as they work through the materials, to annotating the materials with their own comments and clarifications;"
   ]
  },
  {
   "cell_type": "markdown",
   "metadata": {
    "slideshow": {
     "slide_type": "skip"
    }
   },
   "source": [
    "- add predictions about what they expect a code fragment to do when it is executed, record their observations when it does, and reflect on how well their predictions matched their observations, and what they learned as a result. "
   ]
  },
  {
   "cell_type": "markdown",
   "metadata": {
    "slideshow": {
     "slide_type": "slide"
    }
   },
   "source": [
    "## Using Notebooks to Support Direct Teaching / Tutorials\n",
    "\n",
    "The Jupyter notebook environment we have provided includes a slideshow extension, [RISE](https://rise.readthedocs.io/en/stable/), that allows you to turn individual Jupyter notebooks into interactive slideshow presentations."
   ]
  },
  {
   "cell_type": "markdown",
   "metadata": {
    "slideshow": {
     "slide_type": "skip"
    }
   },
   "source": [
    "As with the notebooks themselves, each slide includes editable text and code cells, can display interactive applications, and can be used to execute code fragments and displaying the resulting code output (including error messages...).\n",
    "\n",
    "Notebooks are configured as slides through the addition of cell tags that control whether, and how, each cell in the notebook is to be treated in presentation mode.\n",
    "\n",
    "Several of the notebooks, including this one, have been marked up as presentations. To run the slideshow, click once on the top cell in the notebook to select it as the starting point from the presentation, then click on the *Enter/Exit RISE Slideshow* icon (it looks like a bar chart) on the notebook toolbar. "
   ]
  },
  {
   "cell_type": "markdown",
   "metadata": {
    "slideshow": {
     "slide_type": "slide"
    }
   },
   "source": [
    "Slides themselves are interactive in other ways.\n",
    "\n",
    "For example, this notebook supports the presentation [chalkboard](https://rise.readthedocs.io/en/stable/customize.html#enable-chalkboard-capabilities) which allows you to draw on the slide directly.\n",
    "\n",
    "(Click the pens in the bottom left corner of the slide to toggle the chalkboard mode.)"
   ]
  },
  {
   "cell_type": "markdown",
   "metadata": {
    "lines_to_next_cell": 0,
    "slideshow": {
     "slide_type": "skip"
    }
   },
   "source": [
    "## What Next?\n",
    "\n",
    "If you are not familiar with Jupyter notebooks, please spend some time familiarising yourself with them.\n",
    "\n",
    "We believe they provide a powerful tool to support teaching and learning and it's still early days for us in finding out how to make most effective use of them.\n",
    "\n",
    "If you have any ideas anout how we can imporve our current use of the notebooks, or make more effective use of them, please let us know."
   ]
  },
  {
   "cell_type": "markdown",
   "metadata": {},
   "source": []
  }
 ],
 "metadata": {
  "jupytext": {
   "notebook_metadata_filter": "rise",
   "text_representation": {
    "extension": ".md",
    "format_name": "markdown",
    "format_version": "1.2",
    "jupytext_version": "1.4.2"
   }
  },
  "kernelspec": {
   "display_name": "Python 3",
   "language": "python",
   "name": "python3"
  },
  "rise": {
   "enable_chalkboard": true,
   "scroll": true
  }
 },
 "nbformat": 4,
 "nbformat_minor": 4
}
