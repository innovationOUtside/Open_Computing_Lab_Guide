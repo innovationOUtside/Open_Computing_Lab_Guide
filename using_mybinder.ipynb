{
 "cells": [
  {
   "cell_type": "markdown",
   "metadata": {},
   "source": [
    "\n",
    "### Accessing RoboLab Online - MyBinder / BinderHub\n",
    "\n",
    "You can run the RoboLab environment online using the MyBinder service [![Binder](https://mybinder.org/badge_logo.svg)](https://mybinder.org/v2/gh/innovationOUtside/tm129-robotics2020/master).\n",
    "\n",
    "If you want to save any of the notebooks used there, you will have to download them as follows:\n",
    "\n",
    "- as a single notebook from the notebook page `File` menu;\n",
    "- as a zipped archive file of all notebooks using the the download button on the notebook homepage.\n",
    "\n",
    "You can also upload your own notebooks from the notebook homepage either individually, or as a zip file. If you upload a zip file, you will need to unzip it. You can do this from a notebook command cell using the `unzip` shell command or [using Python code](https://thispointer.com/python-how-to-unzip-a-file-extract-single-multiple-or-all-files-from-a-zip-archive/). More details can be found in the __TO DO?? - see the `RoboLab Environment FAQ`__\n",
    "\n",
    "#### Persisting Files on MyBinder\n",
    "\n",
    "The environment launched from MyBinder is ephemeral - it is created on demand when you click a `launch binder` button and is destroyed after a short period of inactivity.\n",
    "\n",
    "To save your work when working on MyBinder, there are two approaches you can take.\n",
    "\n",
    "##### Using Notebook Storage\n",
    "\n",
    "##### Downloading and Uploading Files\n",
    "\n"
   ]
  }
 ],
 "metadata": {
  "jupytext": {
   "notebook_metadata_filter": "rise",
   "text_representation": {
    "extension": ".md",
    "format_name": "markdown",
    "format_version": "1.2",
    "jupytext_version": "1.4.2"
   }
  },
  "kernelspec": {
   "display_name": "Python 3",
   "language": "python",
   "name": "python3"
  },
  "rise": {
   "enable_chalkboard": true,
   "scroll": true
  }
 },
 "nbformat": 4,
 "nbformat_minor": 4
}
